{
 "cells": [
  {
   "cell_type": "code",
   "execution_count": null,
   "outputs": [],
   "source": [
    "import re\n",
    "import nltk.corpus\n",
    "nltk.download('stopwords')\n",
    "from nltk.corpus import stopwords"
   ],
   "metadata": {
    "collapsed": false,
    "ExecuteTime": {
     "start_time": "2023-04-04T11:32:40.644973Z",
     "end_time": "2023-04-04T11:32:40.698075Z"
    }
   }
  },
  {
   "cell_type": "code",
   "execution_count": null,
   "outputs": [],
   "source": [
    "def clean_text(text):\n",
    "\n",
    "    # Lowercase because we don't want to treat \"Hello\" and \"hello\" differently\n",
    "    text = text.lower()\n",
    "    print(f\"Lowercase: {text} \\n\")\n",
    "\n",
    "    # Remove unicode with regex because it's irrelevant for our task and might cause problems\n",
    "    text = re.sub(r\"(@\\[A-Za-z0-9]+)|([^0-9A-Za-z \\t])|(\\w+:\\/\\/\\S+)|^rt|http.+?\", \"\", text)\n",
    "    print(f\"Remove unicode: {text} \\n\")\n",
    "\n",
    "    # Remove stopwords\n",
    "    \"\"\"\n",
    "    Stopwords are words that are so common that they don't carry much meaning.\n",
    "    For example, \"the\", \"a\", \"is\", \"are\", etc.\n",
    "\n",
    "    \"\"\"\n",
    "    stop = stopwords.words('english')\n",
    "    text = \" \".join([word for word in text.split() if word not in stop])\n",
    "    print(f\"Remove stopwords: {text} \\n\")\n"
   ],
   "metadata": {
    "collapsed": false,
    "ExecuteTime": {
     "start_time": "2023-04-04T11:32:41.398599Z",
     "end_time": "2023-04-04T11:32:41.427595Z"
    }
   }
  },
  {
   "cell_type": "code",
   "execution_count": null,
   "outputs": [],
   "source": [
    "clean_text(\"RT @user: #Hashtags are cool! http://example.com #fun #yolo\")"
   ],
   "metadata": {
    "collapsed": false,
    "ExecuteTime": {
     "start_time": "2023-04-04T11:32:42.148333Z",
     "end_time": "2023-04-04T11:32:42.219335Z"
    }
   }
  }
 ],
 "metadata": {
  "kernelspec": {
   "display_name": "Python 3",
   "language": "python",
   "name": "python3"
  },
  "language_info": {
   "codemirror_mode": {
    "name": "ipython",
    "version": 2
   },
   "file_extension": ".py",
   "mimetype": "text/x-python",
   "name": "python",
   "nbconvert_exporter": "python",
   "pygments_lexer": "ipython2",
   "version": "2.7.6"
  }
 },
 "nbformat": 4,
 "nbformat_minor": 0
}
