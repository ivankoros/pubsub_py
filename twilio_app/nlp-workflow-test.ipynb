{
 "cells": [
  {
   "cell_type": "code",
   "execution_count": 3,
   "outputs": [],
   "source": [
    "import re\n",
    "import nltk.corpus\n",
    "nltk.download('stopwords')\n",
    "from nltk.corpus import stopwords"
   ],
   "metadata": {
    "collapsed": false,
    "ExecuteTime": {
     "start_time": "2023-04-04T11:20:55.098176Z",
     "end_time": "2023-04-04T11:20:55.139174Z"
    }
   }
  },
  {
   "cell_type": "code",
   "execution_count": 13,
   "outputs": [],
   "source": [
    "def clean_text(text):\n",
    "\n",
    "    # Lowercase because we don't want to treat \"Hello\" and \"hello\" differently\n",
    "    text = text.lower()\n",
    "    print(f\"Lowercase: {text} \\n\")\n",
    "\n",
    "    # Remove unicode with regex because it's irrelevant for our task and might cause problems\n",
    "    text = re.sub(r\"(@\\[A-Za-z0-9]+)|([^0-9A-Za-z \\t])|(\\w+:\\/\\/\\S+)|^rt|http.+?\", \"\", text)\n",
    "    print(f\"Remove unicode: {text} \\n\")\n",
    "\n",
    "    # Remove stopwords\n",
    "    \"\"\"\n",
    "    Stopwords are words that are so common that they don't carry much meaning.\n",
    "    For example, \"the\", \"a\", \"is\", \"are\", etc.\n",
    "\n",
    "    \"\"\"\n",
    "    stop = stopwords.words('english')\n",
    "    text = \" \".join([word for word in text.split() if word not in stop])\n",
    "    print(f\"Remove stopwords: {text} \\n\")\n",
    "\n",
    "\n",
    "\n"
   ],
   "metadata": {
    "collapsed": false,
    "ExecuteTime": {
     "start_time": "2023-04-04T11:22:36.071125Z",
     "end_time": "2023-04-04T11:22:36.105120Z"
    }
   }
  },
  {
   "cell_type": "code",
   "execution_count": 14,
   "outputs": [
    {
     "name": "stdout",
     "output_type": "stream",
     "text": [
      "Lowercase: rt @user: #hashtags are cool! http://example.com #fun #yolo \n",
      "\n",
      "Remove unicode:  user hashtags are cool  fun yolo \n",
      "\n"
     ]
    }
   ],
   "source": [
    "clean_text(\"RT @user: #Hashtags are cool! http://example.com #fun #yolo\")"
   ],
   "metadata": {
    "collapsed": false,
    "ExecuteTime": {
     "start_time": "2023-04-04T11:22:36.609122Z",
     "end_time": "2023-04-04T11:22:36.654121Z"
    }
   }
  },
  {
   "cell_type": "code",
   "execution_count": null,
   "outputs": [],
   "source": [],
   "metadata": {
    "collapsed": false
   }
  }
 ],
 "metadata": {
  "kernelspec": {
   "display_name": "Python 3",
   "language": "python",
   "name": "python3"
  },
  "language_info": {
   "codemirror_mode": {
    "name": "ipython",
    "version": 2
   },
   "file_extension": ".py",
   "mimetype": "text/x-python",
   "name": "python",
   "nbconvert_exporter": "python",
   "pygments_lexer": "ipython2",
   "version": "2.7.6"
  }
 },
 "nbformat": 4,
 "nbformat_minor": 0
}
